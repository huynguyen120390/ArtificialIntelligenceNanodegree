{
 "cells": [
  {
   "cell_type": "markdown",
   "metadata": {},
   "source": [
    "# CREATE AND_PERCEPTRON"
   ]
  },
  {
   "cell_type": "code",
   "execution_count": 91,
   "metadata": {},
   "outputs": [
    {
     "name": "stdout",
     "output_type": "stream",
     "text": [
      "Nice!  You got it all correct.\n",
      "\n",
      "Input 1    Input 2    Linear Combination    Activation Output   Is Correct\n",
      "      0          0                    -2                    0          Yes\n",
      "      0          1                    -1                    0          Yes\n",
      "      1          0                    -1                    0          Yes\n",
      "      1          1                     0                    1          Yes\n"
     ]
    }
   ],
   "source": [
    "import pandas as pd\n",
    "\n",
    "#Set weight1, weight2, and bias \n",
    "# Strategy :Try to keep the pair (1,1) be 1 , y >= 0\n",
    "weight1 = 1\n",
    "weight2 = 1\n",
    "bias = -2\n",
    "\n",
    "# Inputs and outputs\n",
    "test_inputs = [(0, 0), (0, 1), (1, 0), (1, 1)]    #(1x2)\n",
    "correct_outputs = [False, False, False, True]     #(1x1)\n",
    "outputs = []\n",
    "\n",
    "# Generate and check output\n",
    "for test_input, correct_output in zip(test_inputs, correct_outputs):\n",
    "    linear_combination = weight1 * test_input[0] + weight2 * test_input[1] + bias\n",
    "    output = int(linear_combination >= 0)\n",
    "    is_correct_string = 'Yes' if output == correct_output else 'No'\n",
    "    outputs.append([test_input[0], test_input[1], linear_combination, output, is_correct_string])\n",
    "\n",
    "# Print output\n",
    "num_wrong = len([output[4] for output in outputs if output[4] == 'No'])\n",
    "output_frame = pd.DataFrame(outputs, columns=['Input 1', '  Input 2', '  Linear Combination', '  Activation Output', '  Is Correct'])\n",
    "if not num_wrong:\n",
    "    print('Nice!  You got it all correct.\\n')\n",
    "else:\n",
    "    print('You got {} wrong.  Keep trying!\\n'.format(num_wrong))\n",
    "print(output_frame.to_string(index=False))\n"
   ]
  },
  {
   "cell_type": "code",
   "execution_count": 92,
   "metadata": {},
   "outputs": [
    {
     "name": "stdout",
     "output_type": "stream",
     "text": [
      "0\n"
     ]
    }
   ],
   "source": [
    "def AND_Gate(input1,input2):\n",
    "    weight1 = 1\n",
    "    weight2 = 1\n",
    "    bias = -2\n",
    "    linear_combination = weight1 * input1 + weight2 * input2 + bias\n",
    "    output = int(linear_combination>=0)\n",
    "    return output\n",
    "print(AND_Gate(1,0))"
   ]
  },
  {
   "cell_type": "markdown",
   "metadata": {},
   "source": [
    "# CREATE OR_PERCEPTRON"
   ]
  },
  {
   "cell_type": "code",
   "execution_count": null,
   "metadata": {},
   "outputs": [],
   "source": []
  },
  {
   "cell_type": "code",
   "execution_count": 93,
   "metadata": {},
   "outputs": [
    {
     "name": "stdout",
     "output_type": "stream",
     "text": [
      "Nice!  You got it all correct.\n",
      "\n",
      "Input 1    Input 2    Linear Combination    Activation Output   Is Correct\n",
      "      0          0                    -1                    0          Yes\n",
      "      0          1                     0                    1          Yes\n",
      "      1          0                     0                    1          Yes\n",
      "      1          1                     1                    1          Yes\n"
     ]
    }
   ],
   "source": [
    "import pandas as pd\n",
    "\n",
    "#Set weight1, weight2, and bias \n",
    "# Strategy :Try to keep the pair (0,0) be 0 , y < 0\n",
    "weight1 = 1\n",
    "weight2 = 1\n",
    "bias = -1\n",
    "\n",
    "# Inputs and outputs\n",
    "test_inputs = [(0, 0), (0, 1), (1, 0), (1, 1)]    #(1x2)\n",
    "correct_outputs = [False, True, True, True]     #(1x1)\n",
    "outputs = []\n",
    "\n",
    "# Generate and check output\n",
    "for test_input, correct_output in zip(test_inputs, correct_outputs):\n",
    "    linear_combination = weight1 * test_input[0] + weight2 * test_input[1] + bias\n",
    "    output = int(linear_combination >= 0)\n",
    "    is_correct_string = 'Yes' if output == correct_output else 'No'\n",
    "    outputs.append([test_input[0], test_input[1], linear_combination, output, is_correct_string])\n",
    "\n",
    "# Print output\n",
    "num_wrong = len([output[4] for output in outputs if output[4] == 'No'])\n",
    "output_frame = pd.DataFrame(outputs, columns=['Input 1', '  Input 2', '  Linear Combination', '  Activation Output', '  Is Correct'])\n",
    "if not num_wrong:\n",
    "    print('Nice!  You got it all correct.\\n')\n",
    "else:\n",
    "    print('You got {} wrong.  Keep trying!\\n'.format(num_wrong))\n",
    "print(output_frame.to_string(index=False))\n"
   ]
  },
  {
   "cell_type": "code",
   "execution_count": 94,
   "metadata": {},
   "outputs": [
    {
     "name": "stdout",
     "output_type": "stream",
     "text": [
      "1\n"
     ]
    }
   ],
   "source": [
    "def OR_Gate(input1,input2):\n",
    "    weight1 = 1\n",
    "    weight2 = 1\n",
    "    bias = -1\n",
    "    linear_combination = weight1*input1 + weight2*input2 + bias\n",
    "    output = int(linear_combination >= 0)\n",
    "    return output\n",
    "print(OR_Gate(1,0))"
   ]
  },
  {
   "cell_type": "markdown",
   "metadata": {},
   "source": [
    "# CREATE NOT_PERCEPTRON"
   ]
  },
  {
   "cell_type": "code",
   "execution_count": 95,
   "metadata": {},
   "outputs": [
    {
     "name": "stdout",
     "output_type": "stream",
     "text": [
      "Nice!  You got it all correct.\n",
      "\n",
      "Input 1    Linear Combination    Activation Output   Is Correct\n",
      "      0                   1.0                    1          Yes\n",
      "      1                  -1.0                    0          Yes\n"
     ]
    }
   ],
   "source": [
    "import pandas as pd\n",
    "\n",
    "# TODO: Set weight1, weight2, and bias\n",
    "weight= [0,-2]\n",
    "bias = 1.0\n",
    "\n",
    "\n",
    "# DON'T CHANGE ANYTHING BELOW\n",
    "# Inputs and outputs\n",
    "test_inputs = [0, 1]\n",
    "correct_outputs = [True, False]\n",
    "outputs = []\n",
    "i = -1\n",
    "# Generate and check output\n",
    "for test_input, correct_output in zip(test_inputs, correct_outputs):\n",
    "    i += 1\n",
    "    linear_combination = weight[i] * test_input + bias\n",
    "    output = int(linear_combination >= 0)\n",
    "    is_correct_string = 'Yes' if output == correct_output else 'No'\n",
    "    outputs.append([test_input, linear_combination, output, is_correct_string])\n",
    "\n",
    "# Print output\n",
    "num_wrong = len([output[2] for output in outputs if output[2] == 'No'])\n",
    "output_frame = pd.DataFrame(outputs, columns=['Input 1', '  Linear Combination', '  Activation Output', '  Is Correct'])\n",
    "if not num_wrong:\n",
    "    print('Nice!  You got it all correct.\\n')\n",
    "else:\n",
    "    print('You got {} wrong.  Keep trying!\\n'.format(num_wrong))\n",
    "print(output_frame.to_string(index=False))"
   ]
  },
  {
   "cell_type": "code",
   "execution_count": 96,
   "metadata": {},
   "outputs": [
    {
     "name": "stdout",
     "output_type": "stream",
     "text": [
      "1\n"
     ]
    }
   ],
   "source": [
    "def NOT_Gate(input1):\n",
    "    weight1 = 0\n",
    "    weight2 = -2\n",
    "    bias = 1.0\n",
    "    if input1 == 0:\n",
    "        weight = weight1 \n",
    "    else:\n",
    "        weight = weight2\n",
    "        \n",
    "    linear_combination = weight * input1 + bias\n",
    "    output = int(linear_combination>=0)\n",
    "    return output\n",
    "print(NOT_GATE(0))\n",
    "    \n",
    "    "
   ]
  },
  {
   "cell_type": "markdown",
   "metadata": {},
   "source": [
    "# CREATE XOR_GATE"
   ]
  },
  {
   "cell_type": "raw",
   "metadata": {},
   "source": [
    "XOR(A,B) = AND(OR(A,B),NAND(A,B))  or  XOR(A,B) = (A+B)*~(A*B)"
   ]
  },
  {
   "cell_type": "code",
   "execution_count": 104,
   "metadata": {},
   "outputs": [],
   "source": [
    "def XOR_Gate(A,B):\n",
    "    OR = OR_Gate(A,B)\n",
    "    NAND = NOT_Gate(AND_Gate(A,B))\n",
    "    XOR = AND_Gate(OR,NAND)\n",
    "    return XOR\n",
    "def test_XOR():\n",
    "    test_inputs = [(0,0),(0,1),(1,0),(1,1)]\n",
    "    correct_outputs = [False,True,True,False]\n",
    "    outputs = []\n",
    "    for test_input, correct_output in zip(test_inputs,correct_outputs):\n",
    "        output = XOR_Gate(test_input[0],test_input[1])\n",
    "        is_correct_string = 'Yes' if output == correct_output else 'No'\n",
    "        correct_output = 1 if correct_output == True else 0\n",
    "        outputs.append([test_input[0],test_input[1] , correct_output , output, is_correct_string])\n",
    "    # Print output\n",
    "    num_wrong = len([output[2] for output in outputs if output[2] == 'No'])\n",
    "    output_frame = pd.DataFrame(outputs, columns=['Input 1', 'Input2', '  Correct_Output', '  Output', '  Is Correct'])\n",
    "    if not num_wrong:\n",
    "        print('Nice!  You got it all correct.\\n')\n",
    "    else:\n",
    "        print('You got {} wrong.  Keep trying!\\n'.format(num_wrong))\n",
    "    print(output_frame.to_string(index=False))"
   ]
  },
  {
   "cell_type": "code",
   "execution_count": 105,
   "metadata": {},
   "outputs": [
    {
     "name": "stdout",
     "output_type": "stream",
     "text": [
      "Nice!  You got it all correct.\n",
      "\n",
      "Input 1  Input2    Correct_Output    Output   Is Correct\n",
      "      0       0                 0         0          Yes\n",
      "      0       1                 1         1          Yes\n",
      "      1       0                 1         1          Yes\n",
      "      1       1                 0         0          Yes\n"
     ]
    }
   ],
   "source": [
    "test_XOR()"
   ]
  },
  {
   "cell_type": "code",
   "execution_count": null,
   "metadata": {},
   "outputs": [],
   "source": []
  }
 ],
 "metadata": {
  "kernelspec": {
   "display_name": "Python 3",
   "language": "python",
   "name": "python3"
  },
  "language_info": {
   "codemirror_mode": {
    "name": "ipython",
    "version": 3
   },
   "file_extension": ".py",
   "mimetype": "text/x-python",
   "name": "python",
   "nbconvert_exporter": "python",
   "pygments_lexer": "ipython3",
   "version": "3.5.6"
  }
 },
 "nbformat": 4,
 "nbformat_minor": 2
}
